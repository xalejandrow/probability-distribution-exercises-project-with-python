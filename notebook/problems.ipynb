{
  "cells": [
    {
      "cell_type": "markdown",
      "metadata": {
        "id": "view-in-github",
        "colab_type": "text"
      },
      "source": [
        "<a href=\"https://colab.research.google.com/github/xalejandrow/probability-distribution-exercises-project-with-python/blob/main/notebook/problems.ipynb\" target=\"_parent\"><img src=\"https://colab.research.google.com/assets/colab-badge.svg\" alt=\"Open In Colab\"/></a>"
      ]
    },
    {
      "cell_type": "markdown",
      "id": "b967ebc8",
      "metadata": {
        "id": "b967ebc8"
      },
      "source": [
        "# Probability Distribution Problems"
      ]
    },
    {
      "cell_type": "markdown",
      "id": "c9b71587",
      "metadata": {
        "id": "c9b71587"
      },
      "source": [
        "**Binomial Distribution**\n",
        "\n",
        "In probability theory and statistics, the binomial distribution is the discrete probability distribution that gives only two possible results in an experiment, for example, when you flip a coin it can by either Head or Tails."
      ]
    },
    {
      "cell_type": "code",
      "execution_count": 1,
      "id": "4eb16d6e",
      "metadata": {
        "id": "4eb16d6e"
      },
      "outputs": [],
      "source": [
        "# Probability functions, density and distribution\n",
        "\n",
        "def dbinom(x,size,prob=0.5):\n",
        "    \"\"\"\n",
        "    Calculates the point estimate of the binomial distribution\n",
        "    \"\"\"\n",
        "    from scipy.stats import binom\n",
        "    result=binom.pmf(k=x,n=size,p=prob,loc=0)\n",
        "    return result\n",
        "\n",
        "def pbinom(q,size,prob=0.5):\n",
        "    \"\"\"\n",
        "    Calculates the cumulative of the binomial distribution\n",
        "    \"\"\"\n",
        "    from scipy.stats import binom\n",
        "    result=binom.cdf(k=q,n=size,p=prob,loc=0)\n",
        "    return result\n",
        "\n",
        "def qbinom(p, size, prob=0.5):\n",
        "    \"\"\"\n",
        "    Calculates the quantile function from the binomial distribution\n",
        "    \"\"\"\n",
        "    from scipy.stats import binom\n",
        "    result=binom.ppf(q=p,n=size,p=prob,loc=0)\n",
        "    return result\n",
        "\n",
        "def rbinom(n,size,prob=0.5):\n",
        "    \"\"\"\n",
        "    Generates random variables from the binomial distribution\n",
        "    \"\"\"\n",
        "    from scipy.stats import binom\n",
        "    result=binom.rvs(n=size,p=prob,size=n)\n",
        "    return result"
      ]
    },
    {
      "cell_type": "code",
      "execution_count": 2,
      "id": "6cf6313a",
      "metadata": {
        "id": "6cf6313a",
        "outputId": "c0fc4e71-4bba-4df7-d0ff-db6f1b6aefe1",
        "colab": {
          "base_uri": "https://localhost:8080/"
        }
      },
      "outputs": [
        {
          "output_type": "execute_result",
          "data": {
            "text/plain": [
              "array([2, 2, 1, ..., 2, 5, 1])"
            ]
          },
          "metadata": {},
          "execution_count": 2
        }
      ],
      "source": [
        "dbinom(2, size = 10, prob = 0.2) #Probability that a binomial (10,0.2) takes the value 2,\n",
        "pbinom(2, size = 10, prob = 0.2) #Probability that a binomial (10,0.2) will take a value less than 2\n",
        "qbinom(0.9, size = 10, prob = 0.2) # what value of a binomial (10,0.2) has a cumulative probability of 0.9?\n",
        "rbinom(2000, size = 10, prob = 0.2) # generate 2000 random values from a binomial distribution (10,0.2)"
      ]
    },
    {
      "cell_type": "code",
      "execution_count": 3,
      "id": "6a6fb6ed",
      "metadata": {
        "id": "6a6fb6ed",
        "outputId": "284df539-5785-4b2a-e4ab-d08e3efa7828",
        "colab": {
          "base_uri": "https://localhost:8080/",
          "height": 281
        }
      },
      "outputs": [
        {
          "output_type": "display_data",
          "data": {
            "text/plain": [
              "<Figure size 432x288 with 1 Axes>"
            ],
            "image/png": "[encoded data removed]"
          },
          "metadata": {
            "needs_background": "light"
          }
        }
      ],
      "source": [
        "import numpy as np\n",
        "import matplotlib.pyplot as plt\n",
        "\n",
        "# Discrete distributions\n",
        "xs = np.arange( 1, 11 )\n",
        "ys = dbinom(xs,size=10,prob=0.5) # compute the shape of the distribution\n",
        "plt.plot( xs, ys, 'o' )   # plot circles...\n",
        "plt.vlines( xs, 0, ys )   # ...and lines\n",
        "plt.ylim( bottom=0 )      # ensure sensible bottom border\n",
        "plt.title('Probability function binomial distribution')\n",
        "plt.show()"
      ]
    },
    {
      "cell_type": "markdown",
      "id": "8aa7eaa0",
      "metadata": {
        "id": "8aa7eaa0"
      },
      "source": [
        "Exercise 1: Create the same functions but for the normal and uniform distribution."
      ]
    },
    {
      "cell_type": "code",
      "execution_count": 4,
      "id": "98d5f012",
      "metadata": {
        "id": "98d5f012"
      },
      "outputs": [],
      "source": [
        "#Code here\n",
        "import numpy as np\n",
        "import matplotlib.pyplot as plt"
      ]
    },
    {
      "cell_type": "code",
      "execution_count": 5,
      "id": "5edfed99",
      "metadata": {
        "id": "5edfed99"
      },
      "outputs": [],
      "source": [
        "def dnorm(x,mean=0,sd =1):\n",
        "    \"\"\"\n",
        "    Calculates the density of the Normal distribution\n",
        "    \"\"\"\n",
        "    from scipy.stats import norm\n",
        "    result=norm.pdf(x,loc=mean,scale=sd)\n",
        "    return result\n",
        "\n",
        "def pnorm(q,mean=0,sd=1):\n",
        "    \"\"\"\n",
        "    Calculates the cumulative of the normal distribution\n",
        "    \"\"\"\n",
        "    from scipy.stats import norm\n",
        "    result=norm.cdf(x=q,loc=mean,scale=sd)\n",
        "    return result\n",
        "\n",
        "def qnorm(p,mean=0,sd=1):\n",
        "    \"\"\"\n",
        "    Calculates the quantile function of the normal distribution\n",
        "    \"\"\"\n",
        "    from scipy.stats import norm\n",
        "    result=norm.ppf(q=p,loc=mean,scale=sd)\n",
        "    return result\n",
        "\n",
        "def rnorm(n,mean=0,sd=1):\n",
        "    \"\"\"\n",
        "    Generates random variables from the normal distribution\n",
        "    \"\"\"\n",
        "    from scipy.stats import norm\n",
        "    result=norm.rvs(size=n,loc=mean,scale=sd)\n",
        "    return result"
      ]
    },
    {
      "cell_type": "code",
      "execution_count": 6,
      "id": "14ac4a97",
      "metadata": {
        "id": "14ac4a97",
        "outputId": "4ff6c77b-5d3b-48fe-abbd-5e44eb8d73b0",
        "colab": {
          "base_uri": "https://localhost:8080/",
          "height": 283
        }
      },
      "outputs": [
        {
          "output_type": "execute_result",
          "data": {
            "text/plain": [
              "[<matplotlib.lines.Line2D at 0x7fc9353e6f90>]"
            ]
          },
          "metadata": {},
          "execution_count": 6
        },
        {
          "output_type": "display_data",
          "data": {
            "text/plain": [
              "<Figure size 432x288 with 1 Axes>"
            ],
            "image/png": "[encoded data removed]"
          },
          "metadata": {
            "needs_background": "light"
          }
        }
      ],
      "source": [
        "# Continuous distributions\n",
        "x = np.arange(-5,5,0.1)\n",
        "plt.plot(x,dnorm(x,mean=0,sd=1))\n"
      ]
    },
    {
      "cell_type": "code",
      "execution_count": 7,
      "id": "02185453",
      "metadata": {
        "id": "02185453",
        "outputId": "dd55d8a1-4a43-45a6-ff59-ea584c0d4b35",
        "colab": {
          "base_uri": "https://localhost:8080/",
          "height": 283
        }
      },
      "outputs": [
        {
          "output_type": "execute_result",
          "data": {
            "text/plain": [
              "[<matplotlib.lines.Line2D at 0x7fc935364c50>]"
            ]
          },
          "metadata": {},
          "execution_count": 7
        },
        {
          "output_type": "display_data",
          "data": {
            "text/plain": [
              "<Figure size 432x288 with 1 Axes>"
            ],
            "image/png": "[encoded data removed]"
          },
          "metadata": {
            "needs_background": "light"
          }
        }
      ],
      "source": [
        "x = np.arange(-5,5,0.1)\n",
        "plt.plot(x,pnorm(x,mean=0,sd=1))"
      ]
    },
    {
      "cell_type": "code",
      "execution_count": 7,
      "id": "b30a3246",
      "metadata": {
        "id": "b30a3246"
      },
      "outputs": [],
      "source": [
        ""
      ]
    }
  ],
  "metadata": {
    "kernelspec": {
      "display_name": "Python 3.8.13 64-bit ('3.8.13')",
      "language": "python",
      "name": "python3"
    },
    "language_info": {
      "codemirror_mode": {
        "name": "ipython",
        "version": 3
      },
      "file_extension": ".py",
      "mimetype": "text/x-python",
      "name": "python",
      "nbconvert_exporter": "python",
      "pygments_lexer": "ipython3",
      "version": "3.8.13"
    },
    "vscode": {
      "interpreter": {
        "hash": "110cc1dee26208153f2972f08a2ad52b6a56238dc66d48e87fb757ef2996db56"
      }
    },
    "colab": {
      "name": "problems.ipynb",
      "provenance": [],
      "include_colab_link": true
    }
  },
  "nbformat": 4,
  "nbformat_minor": 5
}