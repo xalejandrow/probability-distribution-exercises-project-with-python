{
 "cells": [
  {
   "cell_type": "code",
   "execution_count": null,
   "metadata": {},
   "outputs": [],
   "source": [
    "from scipy.stats import binom\n",
    "import numpy as np"
   ]
  },
  {
   "cell_type": "code",
   "execution_count": null,
   "metadata": {},
   "outputs": [],
   "source": [
    "def dbinom(x,size,prob=0.5):\n",
    "    \"\"\"\n",
    "    Calculates the point estimate of the binomial distribution\n",
    "    \"\"\"\n",
    "    #from scipy.stats import binom\n",
    "    result=binom.pmf(k=x,n=size,p=prob,loc=0)\n",
    "    return result\n"
   ]
  },
  {
   "cell_type": "code",
   "execution_count": null,
   "metadata": {},
   "outputs": [],
   "source": [
    "x = dbinom(2,100,0.2)\n",
    "print(x)"
   ]
  }
 ],
 "metadata": {
  "language_info": {
   "name": "python"
  },
  "orig_nbformat": 4
 },
 "nbformat": 4,
 "nbformat_minor": 2
}
