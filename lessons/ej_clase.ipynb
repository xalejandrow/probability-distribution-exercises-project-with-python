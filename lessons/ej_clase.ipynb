{
 "cells": [
  {
   "cell_type": "markdown",
   "metadata": {},
   "source": [
    "P(y=1) = 0.2\n",
    "P(y=2) = 0.8"
   ]
  },
  {
   "cell_type": "code",
   "execution_count": 1,
   "metadata": {},
   "outputs": [],
   "source": [
    "from scipy.stats import binom\n",
    "import numpy as np"
   ]
  },
  {
   "cell_type": "code",
   "execution_count": 5,
   "metadata": {},
   "outputs": [],
   "source": [
    "def dbinom(x,size,prob=0.5):\n",
    "    \"\"\"\n",
    "    Calculates the point estimate of the binomial distribution\n",
    "    \"\"\"\n",
    "    #from scipy.stats import binom\n",
    "    result=binom.pmf(k=x,n=size,p=prob,loc=0)\n",
    "    return result\n",
    "\n",
    "def pbinom(q,size,prob=0.5):\n",
    "    \"\"\"\n",
    "    Calculates the cumulative of the binomial distribution\n",
    "    \"\"\"\n",
    "    from scipy.stats import binom\n",
    "    result=binom.cdf(k=q,n=size,p=prob,loc=0)\n",
    "    return result\n"
   ]
  },
  {
   "cell_type": "code",
   "execution_count": 3,
   "metadata": {},
   "outputs": [
    {
     "name": "stdout",
     "output_type": "stream",
     "text": [
      "6.302080051784812e-08\n"
     ]
    }
   ],
   "source": [
    "x = dbinom(2,100,0.2)\n",
    "print(x)"
   ]
  },
  {
   "cell_type": "markdown",
   "metadata": {},
   "source": [
    "P(y <= 10) = P(y = 0) + P(y = 1) + P(y = 2) + ..... +  P(y = 10) "
   ]
  },
  {
   "cell_type": "code",
   "execution_count": 8,
   "metadata": {},
   "outputs": [
    {
     "name": "stdout",
     "output_type": "stream",
     "text": [
      "0.005696380955793536\n",
      "0.5696380955793536\n"
     ]
    }
   ],
   "source": [
    "x = pbinom(10,100,0.2)\n",
    "print(x)\n",
    "print(x*100) # en porcentaje"
   ]
  },
  {
   "cell_type": "markdown",
   "metadata": {},
   "source": [
    "En un solo evento, cuál es la espectativa\n",
    "Tipo: Bernoulli\n",
    "media: 0.2\n",
    "varianza: 0.16"
   ]
  },
  {
   "cell_type": "code",
   "execution_count": 9,
   "metadata": {},
   "outputs": [
    {
     "name": "stdout",
     "output_type": "stream",
     "text": [
      "0.16000000000000003\n"
     ]
    }
   ],
   "source": [
    "varianza = 0.8*0.2\n",
    "print(varianza)"
   ]
  },
  {
   "cell_type": "markdown",
   "metadata": {},
   "source": [
    "Esta en un jurado, y trata de decidir si un defendido es inocente o culpable\n",
    "Tipo experimento Bernoulli"
   ]
  },
  {
   "cell_type": "markdown",
   "metadata": {},
   "source": [
    "Tengo un dado con 6 caras, 4 son azules (B) y 2 rojas(R), cada cara tiene la misma probabilidad de salir.\n",
    "Cual de las 3 situaciones es la más probable\n",
    "Tipo experimento Binomial\n",
    "\n",
    "R, B, R, R, R \n",
    "R, B, R, R, R, B\n",
    "B, R, R, R, R, R"
   ]
  },
  {
   "cell_type": "code",
   "execution_count": 14,
   "metadata": {},
   "outputs": [
    {
     "name": "stdout",
     "output_type": "stream",
     "text": [
      "0.008230452674897118\n",
      "0.005486968449931412\n",
      "0.002743484224965706\n"
     ]
    }
   ],
   "source": [
    "#R, B, R, R, R \n",
    "P1 = (1/3)*(2/3)*(1/3)*(1/3)*(1/3)\n",
    "#R, B, R, R, R, B\n",
    "P2 = (1/3)*(2/3)*(1/3)*(1/3)*(1/3)*(2/3)\n",
    "#B, R, R, R, R, R\n",
    "P3 = (2/3)*(1/3)*(1/3)*(1/3)*(1/3)*(1/3)\n",
    "\n",
    "print(P1)\n",
    "print(P2)\n",
    "print(P3)"
   ]
  }
 ],
 "metadata": {
  "kernelspec": {
   "display_name": "Python 3.8.13 64-bit ('3.8.13')",
   "language": "python",
   "name": "python3"
  },
  "language_info": {
   "codemirror_mode": {
    "name": "ipython",
    "version": 3
   },
   "file_extension": ".py",
   "mimetype": "text/x-python",
   "name": "python",
   "nbconvert_exporter": "python",
   "pygments_lexer": "ipython3",
   "version": "3.8.13"
  },
  "orig_nbformat": 4,
  "vscode": {
   "interpreter": {
    "hash": "110cc1dee26208153f2972f08a2ad52b6a56238dc66d48e87fb757ef2996db56"
   }
  }
 },
 "nbformat": 4,
 "nbformat_minor": 2
}
